{
 "cells": [
  {
   "cell_type": "markdown",
   "id": "049d8555-533c-4272-b369-2aa2f6bf5863",
   "metadata": {},
   "source": [
    "# The Best Neighborhood in Pittsburgh\n",
    "\n",
    "## Metric\n",
    "We decided that the best neighborhood in Pittsburgh would be the one that was most suitable for a Paw Patrol HQ!\n",
    "\n",
    "![PawPatrol](https://i.giphy.com/media/v1.Y2lkPTc5MGI3NjExb3ZmbHV0eHVlbTZ5aWljcWxjM3JubTY1eDN5YTlyZnU3dXN0enRlOCZlcD12MV9pbnRlcm5hbF9naWZfYnlfaWQmY3Q9Zw/p3oPGBzHUkDsjByy7x/giphy.gif)"
   ]
  },
  {
   "cell_type": "markdown",
   "id": "0dd95008-b6a0-4258-9867-3cc14a77bc3d",
   "metadata": {},
   "source": [
    "In order to determine this we looked at 4 different data sets which included Crime Rates, Fire Incidents, Number of students in schools, and the number of parks. After inspecting, filtering, and working with all of our data dets we were able to determine the best neighborhood in Pittsburgh and here is how we did it.\n",
    "\n",
    "First lets set up our note book and import all of the necesary tools. "
   ]
  },
  {
   "cell_type": "code",
   "execution_count": 6,
   "id": "a425f4f6-ac5a-43fe-988e-026411b5cba3",
   "metadata": {},
   "outputs": [],
   "source": [
    "import pandas as pd\n",
    "import numpy as np\n",
    "%matplotlib inline\n",
    "import matplotlib.pyplot as plt\n",
    "import geopandas\n",
    "%matplotlib inline"
   ]
  },
  {
   "cell_type": "code",
   "execution_count": null,
   "id": "ba3df342-a236-485f-b19f-90b7d541546a",
   "metadata": {},
   "outputs": [],
   "source": []
  }
 ],
 "metadata": {
  "kernelspec": {
   "display_name": "Python 3 (ipykernel)",
   "language": "python",
   "name": "python3"
  },
  "language_info": {
   "codemirror_mode": {
    "name": "ipython",
    "version": 3
   },
   "file_extension": ".py",
   "mimetype": "text/x-python",
   "name": "python",
   "nbconvert_exporter": "python",
   "pygments_lexer": "ipython3",
   "version": "3.12.3"
  }
 },
 "nbformat": 4,
 "nbformat_minor": 5
}
