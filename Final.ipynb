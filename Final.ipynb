{
 "cells": [
  {
   "cell_type": "markdown",
   "id": "049d8555-533c-4272-b369-2aa2f6bf5863",
   "metadata": {},
   "source": [
    "# The Best Neighborhood in Pittsburgh\n",
    "\n",
    "## Metric\n",
    "We decided that the best neighborhood in Pittsburgh would be the one that was most suitable for a Paw Patrol HQ!\n",
    "\n",
    "![PawPatrol](https://i.giphy.com/media/v1.Y2lkPTc5MGI3NjExb3ZmbHV0eHVlbTZ5aWljcWxjM3JubTY1eDN5YTlyZnU3dXN0enRlOCZlcD12MV9pbnRlcm5hbF9naWZfYnlfaWQmY3Q9Zw/p3oPGBzHUkDsjByy7x/giphy.gif)"
   ]
  },
  {
   "cell_type": "code",
   "execution_count": null,
   "id": "83cd882e-d2fa-468a-9865-4af5529f27e6",
   "metadata": {},
   "outputs": [],
   "source": []
  }
 ],
 "metadata": {
  "kernelspec": {
   "display_name": "Python 3 (ipykernel)",
   "language": "python",
   "name": "python3"
  },
  "language_info": {
   "codemirror_mode": {
    "name": "ipython",
    "version": 3
   },
   "file_extension": ".py",
   "mimetype": "text/x-python",
   "name": "python",
   "nbconvert_exporter": "python",
   "pygments_lexer": "ipython3",
   "version": "3.12.3"
  }
 },
 "nbformat": 4,
 "nbformat_minor": 5
}
